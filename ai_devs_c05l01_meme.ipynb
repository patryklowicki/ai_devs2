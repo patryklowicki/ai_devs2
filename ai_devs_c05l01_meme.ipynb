{
 "cells": [
  {
   "cell_type": "code",
   "execution_count": 28,
   "metadata": {
    "metadata": {}
   },
   "outputs": [],
   "source": [
    "import requests\n",
    "import json\n",
    "import config\n",
    "import helpers"
   ]
  },
  {
   "cell_type": "code",
   "execution_count": 1,
   "metadata": {
    "metadata": {}
   },
   "outputs": [],
   "source": [
    "def render_image(template, image_url, image_txt, renderform_api_key):\n",
    "    response = requests.post(\n",
    "        url = \"https://api.renderform.io/api/v2/render\",\n",
    "        headers = {\"X-API-KEY\" : renderform_api_key,\n",
    "                   \"Content-Type\": \"application/json\"},\n",
    "        data = json.dumps({\n",
    "            \"template\": template,\n",
    "            \"data\": {\n",
    "                \"title.text\": image_txt,\n",
    "                \"image.src\" : image_url\n",
    "            },\n",
    "        })\n",
    "    )\n",
    "    if response.status_code != 200:\n",
    "        return response.json()\n",
    "    else:\n",
    "        return response.json()['href']\n",
    "\n",
    "    "
   ]
  },
  {
   "cell_type": "code",
   "execution_count": 41,
   "metadata": {
    "metadata": {}
   },
   "outputs": [
    {
     "data": {
      "text/plain": [
       "{'code': 0,\n",
       " 'msg': 'Create meme using RednerForm API and send me the URL to JPG via /answer/ endpoint',\n",
       " 'service': 'https://renderform.io/',\n",
       " 'image': 'https://tasks.aidevs.pl/data/monkey.png',\n",
       " 'text': 'Gdy koledzy z pracy mówią, że ta cała automatyzacja to tylko chwilowa moda, a Ty właśnie zastąpiłeś ich jednym, prostym skryptem',\n",
       " 'hint': 'https://tasks.aidevs.pl/hint/meme'}"
      ]
     },
     "execution_count": 41,
     "metadata": {},
     "output_type": "execute_result"
    }
   ],
   "source": [
    "token = helpers.get_token('meme')\n",
    "task = helpers.get_task(token)\n",
    "task"
   ]
  },
  {
   "cell_type": "code",
   "execution_count": 44,
   "metadata": {
    "metadata": {}
   },
   "outputs": [
    {
     "data": {
      "text/plain": [
       "'https://cdn.renderform.io/2qitm0tnCtAWmounKumq/results/req-0dc73e74-f327-4d58-97e0-b727a26180a1.jpg'"
      ]
     },
     "execution_count": 44,
     "metadata": {},
     "output_type": "execute_result"
    }
   ],
   "source": [
    "res = render_image(template = \"glossy-yetis-howl-kindly-1104\",\n",
    "                   image_url=task['image'],\n",
    "                   image_txt=task['text'],\n",
    "                    renderform_api_key=config.RENDERFORM_API_KEY)\n",
    "res"
   ]
  },
  {
   "cell_type": "code",
   "execution_count": 46,
   "metadata": {
    "metadata": {}
   },
   "outputs": [
    {
     "name": "stdout",
     "output_type": "stream",
     "text": [
      "{\"answer\": \"https://cdn.renderform.io/2qitm0tnCtAWmounKumq/results/req-0dc73e74-f327-4d58-97e0-b727a26180a1.jpg\"}\n"
     ]
    },
    {
     "data": {
      "text/plain": [
       "{'code': 0, 'msg': 'OK', 'note': 'CORRECT'}"
      ]
     },
     "execution_count": 46,
     "metadata": {},
     "output_type": "execute_result"
    }
   ],
   "source": [
    "helpers.send_answer(token=token, answer=res)"
   ]
  }
 ],
 "metadata": {
  "kernelspec": {
   "display_name": "aidevs_venv",
   "language": "python",
   "name": "python3"
  },
  "language_info": {
   "codemirror_mode": {
    "name": "ipython",
    "version": 3
   },
   "file_extension": ".py",
   "mimetype": "text/x-python",
   "name": "python",
   "nbconvert_exporter": "python",
   "pygments_lexer": "ipython3",
   "version": "3.10.2"
  }
 },
 "nbformat": 4,
 "nbformat_minor": 2
}
