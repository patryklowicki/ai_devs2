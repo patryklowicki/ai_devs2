{
 "cells": [
  {
   "cell_type": "code",
   "execution_count": 21,
   "metadata": {},
   "outputs": [],
   "source": [
    "from openai import OpenAI\n",
    "import os\n",
    "from dotenv import find_dotenv, load_dotenv\n",
    "import json\n",
    "import requests\n",
    "import helpers\n",
    "import config\n",
    "from qdrant_client import QdrantClient\n",
    "import uuid"
   ]
  },
  {
   "cell_type": "code",
   "execution_count": 5,
   "metadata": {},
   "outputs": [],
   "source": [
    "qdrant_client = QdrantClient(url=\"http://localhost:6333\")\n",
    "openai_client = OpenAI()"
   ]
  },
  {
   "cell_type": "code",
   "execution_count": 17,
   "metadata": {},
   "outputs": [
    {
     "data": {
      "text/plain": [
       "True"
      ]
     },
     "execution_count": 17,
     "metadata": {},
     "output_type": "execute_result"
    }
   ],
   "source": [
    "COLLECTION_NAME = 'ai_devs'\n",
    "qdrant_client.create_collection(COLLECTION_NAME, vectors_config={\"size\" : 1536,\n",
    "                                                                 \"distance\" : \"Cosine\",\n",
    "                                                                 \"on_disk\" : True})"
   ]
  },
  {
   "cell_type": "code",
   "execution_count": 19,
   "metadata": {},
   "outputs": [
    {
     "data": {
      "text/plain": [
       "CollectionInfo(status=<CollectionStatus.GREEN: 'green'>, optimizer_status=<OptimizersStatusOneOf.OK: 'ok'>, vectors_count=0, indexed_vectors_count=0, points_count=0, segments_count=8, config=CollectionConfig(params=CollectionParams(vectors=VectorParams(size=1536, distance=<Distance.COSINE: 'Cosine'>, hnsw_config=None, quantization_config=None, on_disk=True), shard_number=1, sharding_method=None, replication_factor=1, write_consistency_factor=1, read_fan_out_factor=None, on_disk_payload=True, sparse_vectors=None), hnsw_config=HnswConfig(m=16, ef_construct=100, full_scan_threshold=10000, max_indexing_threads=0, on_disk=False, payload_m=None), optimizer_config=OptimizersConfig(deleted_threshold=0.2, vacuum_min_vector_number=1000, default_segment_number=0, max_segment_size=None, memmap_threshold=None, indexing_threshold=20000, flush_interval_sec=5, max_optimization_threads=None), wal_config=WalConfig(wal_capacity_mb=32, wal_segments_ahead=0), quantization_config=None), payload_schema={})"
      ]
     },
     "execution_count": 19,
     "metadata": {},
     "output_type": "execute_result"
    }
   ],
   "source": [
    "collection_info = qdrant_client.get_collection(COLLECTION_NAME)\n",
    "collection_info"
   ]
  },
  {
   "cell_type": "code",
   "execution_count": 9,
   "metadata": {},
   "outputs": [
    {
     "data": {
      "text/plain": [
       "'Adam has various skills but describes himself as \"just curious.\"\\n\\nAdam have a dog named Alexa.\\n\\nAdam lives in Krakow with his fiancĂ©e and dog.\\n\\nAdam is involved in a couple of projects like eduweb.pl, ahoy.so, easy.tools, overment.com, heyalice.app, automation.house, and more.\\n\\nAdam knows JavaScript and Python very well. He\\'s full-stack engineer.\\n\\nAdam loves music. He listens to Spotify all the time.\\n\\nAdam\\'s nickname is \\'overment\\'.\\n\\nAdam has a youtube channel named \\'overment\\'.\\n\\nAdam is a big fan of Apple products.\\n\\nAdam is a big fan of Tesla cars.'"
      ]
     },
     "execution_count": 9,
     "metadata": {},
     "output_type": "execute_result"
    }
   ],
   "source": [
    "with open(\"memory.md\", \"r\") as f:\n",
    "    memory = f.read()\n",
    "memory"
   ]
  },
  {
   "cell_type": "code",
   "execution_count": 23,
   "metadata": {},
   "outputs": [
    {
     "data": {
      "text/plain": [
       "['Adam has various skills but describes himself as \"just curious.\"',\n",
       " 'Adam have a dog named Alexa.',\n",
       " 'Adam lives in Krakow with his fiancĂ©e and dog.',\n",
       " 'Adam is involved in a couple of projects like eduweb.pl, ahoy.so, easy.tools, overment.com, heyalice.app, automation.house, and more.',\n",
       " \"Adam knows JavaScript and Python very well. He's full-stack engineer.\",\n",
       " 'Adam loves music. He listens to Spotify all the time.',\n",
       " \"Adam's nickname is 'overment'.\",\n",
       " \"Adam has a youtube channel named 'overment'.\",\n",
       " 'Adam is a big fan of Apple products.',\n",
       " 'Adam is a big fan of Tesla cars.']"
      ]
     },
     "execution_count": 23,
     "metadata": {},
     "output_type": "execute_result"
    }
   ],
   "source": [
    "docs = memory.split(\"\\n\")\n",
    "docs = [x for x in docs if x != \"\"] # remove empty lines\n",
    "docs"
   ]
  },
  {
   "cell_type": "code",
   "execution_count": 24,
   "metadata": {},
   "outputs": [],
   "source": [
    "documents = [{\"pageContent\": doc} for doc in docs]\n",
    "for document in documents:\n",
    "    if 'metadata' not in document:\n",
    "        document['metadata'] = {}\n",
    "    document['metadata']['source'] = COLLECTION_NAME\n",
    "    document['metadata']['content'] = document.get('pageContent', '')\n",
    "    document['metadata']['uuid'] = str(uuid.uuid4())"
   ]
  },
  {
   "cell_type": "code",
   "execution_count": 25,
   "metadata": {},
   "outputs": [
    {
     "data": {
      "text/plain": [
       "[{'pageContent': 'Adam has various skills but describes himself as \"just curious.\"',\n",
       "  'metadata': {'source': 'ai_devs',\n",
       "   'content': 'Adam has various skills but describes himself as \"just curious.\"',\n",
       "   'uuid': '1809b4fe-cc9a-46f9-85f7-b64286080095'}},\n",
       " {'pageContent': 'Adam have a dog named Alexa.',\n",
       "  'metadata': {'source': 'ai_devs',\n",
       "   'content': 'Adam have a dog named Alexa.',\n",
       "   'uuid': '8a004a1a-2161-4573-95ef-65fd9fa6aa63'}},\n",
       " {'pageContent': 'Adam lives in Krakow with his fiancĂ©e and dog.',\n",
       "  'metadata': {'source': 'ai_devs',\n",
       "   'content': 'Adam lives in Krakow with his fiancĂ©e and dog.',\n",
       "   'uuid': 'db4bcf72-0dd0-4ff4-aeea-814f2340b6ac'}},\n",
       " {'pageContent': 'Adam is involved in a couple of projects like eduweb.pl, ahoy.so, easy.tools, overment.com, heyalice.app, automation.house, and more.',\n",
       "  'metadata': {'source': 'ai_devs',\n",
       "   'content': 'Adam is involved in a couple of projects like eduweb.pl, ahoy.so, easy.tools, overment.com, heyalice.app, automation.house, and more.',\n",
       "   'uuid': 'ddbf046e-8a4d-457b-8760-9a6b4eb4574a'}},\n",
       " {'pageContent': \"Adam knows JavaScript and Python very well. He's full-stack engineer.\",\n",
       "  'metadata': {'source': 'ai_devs',\n",
       "   'content': \"Adam knows JavaScript and Python very well. He's full-stack engineer.\",\n",
       "   'uuid': 'dc6f1449-c836-40fd-960a-7493ad9781e0'}},\n",
       " {'pageContent': 'Adam loves music. He listens to Spotify all the time.',\n",
       "  'metadata': {'source': 'ai_devs',\n",
       "   'content': 'Adam loves music. He listens to Spotify all the time.',\n",
       "   'uuid': '092424cb-541b-4072-b959-14b19b7c1c4b'}},\n",
       " {'pageContent': \"Adam's nickname is 'overment'.\",\n",
       "  'metadata': {'source': 'ai_devs',\n",
       "   'content': \"Adam's nickname is 'overment'.\",\n",
       "   'uuid': '9a6aa6dc-ea5a-4034-b4f6-8d3d4c81abbc'}},\n",
       " {'pageContent': \"Adam has a youtube channel named 'overment'.\",\n",
       "  'metadata': {'source': 'ai_devs',\n",
       "   'content': \"Adam has a youtube channel named 'overment'.\",\n",
       "   'uuid': '5ffd855f-fcf0-4555-b7b6-0af47676872f'}},\n",
       " {'pageContent': 'Adam is a big fan of Apple products.',\n",
       "  'metadata': {'source': 'ai_devs',\n",
       "   'content': 'Adam is a big fan of Apple products.',\n",
       "   'uuid': 'a47ab245-57e5-466c-b04d-c1f1c8a18167'}},\n",
       " {'pageContent': 'Adam is a big fan of Tesla cars.',\n",
       "  'metadata': {'source': 'ai_devs',\n",
       "   'content': 'Adam is a big fan of Tesla cars.',\n",
       "   'uuid': '94100359-8214-4e69-9a6c-2fdb15e567a6'}}]"
      ]
     },
     "execution_count": 25,
     "metadata": {},
     "output_type": "execute_result"
    }
   ],
   "source": [
    "documents"
   ]
  },
  {
   "cell_type": "code",
   "execution_count": 57,
   "metadata": {},
   "outputs": [],
   "source": [
    "def get_embeddings(openai_client, text):\n",
    "    response = openai_client.embeddings.create(\n",
    "        model=\"text-embedding-ada-002\",\n",
    "        input=text,\n",
    "        encoding_format=\"float\"\n",
    "        )\n",
    "    return response.data[0].embedding\n",
    "\n",
    "points = []\n",
    "for document in documents:\n",
    "    embedding = get_embeddings(openai_client, document['pageContent'])\n",
    "    points.append(\n",
    "        {\"id\" : document['metadata']['uuid'],\n",
    "         \"payload\" : document['metadata'],\n",
    "         \"vector\" : embedding}\n",
    "    )"
   ]
  },
  {
   "cell_type": "code",
   "execution_count": 61,
   "metadata": {},
   "outputs": [
    {
     "data": {
      "text/plain": [
       "UpdateResult(operation_id=0, status=<UpdateStatus.COMPLETED: 'completed'>)"
      ]
     },
     "execution_count": 61,
     "metadata": {},
     "output_type": "execute_result"
    }
   ],
   "source": [
    "qdrant_client.upsert(collection_name=COLLECTION_NAME, \n",
    "                     points=points,\n",
    "                     wait=True,\n",
    "                     )"
   ]
  },
  {
   "cell_type": "code",
   "execution_count": 73,
   "metadata": {},
   "outputs": [],
   "source": [
    "question = \"What is Adam's dog name?\"\n",
    "query_embedding = get_embeddings(openai_client, question)"
   ]
  },
  {
   "cell_type": "code",
   "execution_count": 74,
   "metadata": {},
   "outputs": [
    {
     "data": {
      "text/plain": [
       "[ScoredPoint(id='8a004a1a-2161-4573-95ef-65fd9fa6aa63', version=0, score=0.9014549, payload={'content': 'Adam have a dog named Alexa.', 'source': 'ai_devs', 'uuid': '8a004a1a-2161-4573-95ef-65fd9fa6aa63'}, vector=None, shard_key=None)]"
      ]
     },
     "execution_count": 74,
     "metadata": {},
     "output_type": "execute_result"
    }
   ],
   "source": [
    "qdrant_client.search(collection_name=COLLECTION_NAME,\n",
    "                     query_vector=query_embedding,\n",
    "                     limit=1\n",
    "                     )"
   ]
  },
  {
   "cell_type": "code",
   "execution_count": null,
   "metadata": {},
   "outputs": [],
   "source": [
    "\n"
   ]
  }
 ],
 "metadata": {
  "kernelspec": {
   "display_name": "aidevs_venv",
   "language": "python",
   "name": "python3"
  },
  "language_info": {
   "codemirror_mode": {
    "name": "ipython",
    "version": 3
   },
   "file_extension": ".py",
   "mimetype": "text/x-python",
   "name": "python",
   "nbconvert_exporter": "python",
   "pygments_lexer": "ipython3",
   "version": "3.10.2"
  }
 },
 "nbformat": 4,
 "nbformat_minor": 2
}
