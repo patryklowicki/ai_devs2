{
 "cells": [
  {
   "cell_type": "code",
   "execution_count": 3,
   "metadata": {},
   "outputs": [],
   "source": [
    "from openai import OpenAI\n",
    "import helpers"
   ]
  },
  {
   "cell_type": "code",
   "execution_count": 5,
   "metadata": {},
   "outputs": [
    {
     "data": {
      "text/plain": [
       "'send me any question in english, and I will try to answer it in max 150 tokens'"
      ]
     },
     "execution_count": 5,
     "metadata": {},
     "output_type": "execute_result"
    }
   ],
   "source": [
    "token = helpers.get_token(task_name='liar')\n",
    "task = helpers.get_task(token)\n",
    "task['msg']"
   ]
  },
  {
   "cell_type": "code",
   "execution_count": 71,
   "metadata": {},
   "outputs": [],
   "source": [
    "def send_question_to_task_endpoint(question, token):\n",
    "    response = requests.post(\n",
    "            url=f\"https://tasks.aidevs.pl/task/{token}\",\n",
    "            data={\n",
    "                 'question' : question\n",
    "                 }\n",
    "                )\n",
    "    answer = response.json()['answer']\n",
    "    return answer"
   ]
  },
  {
   "cell_type": "code",
   "execution_count": 72,
   "metadata": {},
   "outputs": [
    {
     "data": {
      "text/plain": [
       "'There are even restaurants that have banned pineapple as a pizza topping altogether.'"
      ]
     },
     "execution_count": 72,
     "metadata": {},
     "output_type": "execute_result"
    }
   ],
   "source": [
    "token = helpers.get_token(task_name='liar')\n",
    "\n",
    "question = 'how many people live in poland?'\n",
    "answer = send_question_to_task_endpoint(question, token)\n",
    "answer"
   ]
  },
  {
   "cell_type": "code",
   "execution_count": 75,
   "metadata": {},
   "outputs": [
    {
     "data": {
      "text/plain": [
       "'NO'"
      ]
     },
     "execution_count": 75,
     "metadata": {},
     "output_type": "execute_result"
    }
   ],
   "source": [
    "client = OpenAI()\n",
    "aitext = client.completions.create(\n",
    "        model=\"gpt-3.5-turbo-instruct\",\n",
    "        prompt=\"\"\"\n",
    "        Does \"{answer}\" answers {question}? Answer YES or NO\n",
    "        \"\"\",\n",
    "        max_tokens=5,\n",
    "        temperature=0.1\n",
    "    )\n",
    "checker_answer = aitext.choices[0].text\n",
    "checker_answer = checker_answer.strip()\n",
    "checker_answer"
   ]
  },
  {
   "cell_type": "code",
   "execution_count": 76,
   "metadata": {},
   "outputs": [
    {
     "data": {
      "text/plain": [
       "{'code': 0, 'msg': 'OK', 'note': 'CORRECT'}"
      ]
     },
     "execution_count": 76,
     "metadata": {},
     "output_type": "execute_result"
    }
   ],
   "source": [
    "helpers.send_answer(token, answer=checker_answer)"
   ]
  }
 ],
 "metadata": {
  "kernelspec": {
   "display_name": "aidevs_venv",
   "language": "python",
   "name": "python3"
  },
  "language_info": {
   "codemirror_mode": {
    "name": "ipython",
    "version": 3
   },
   "file_extension": ".py",
   "mimetype": "text/x-python",
   "name": "python",
   "nbconvert_exporter": "python",
   "pygments_lexer": "ipython3",
   "version": "3.10.2"
  }
 },
 "nbformat": 4,
 "nbformat_minor": 2
}
