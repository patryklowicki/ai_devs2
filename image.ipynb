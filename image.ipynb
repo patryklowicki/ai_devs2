{
 "cells": [
  {
   "cell_type": "code",
   "execution_count": 1,
   "metadata": {},
   "outputs": [],
   "source": [
    "from openai import OpenAI\n",
    "from dotenv import find_dotenv, load_dotenv\n",
    "import helpers\n",
    "import datetime\n"
   ]
  },
  {
   "cell_type": "code",
   "execution_count": 10,
   "metadata": {},
   "outputs": [
    {
     "name": "stdout",
     "output_type": "stream",
     "text": [
      "I will give you a drawing of a gnome with a hat on his head. Tell me what is the color of the hat in POLISH. If any errors occur, return \"ERROR\" as answer \n",
      " https://tasks.aidevs.pl/gnome/0d8f34fbb34a936c9d2f8b1dd5d1c612.png\n"
     ]
    }
   ],
   "source": [
    "client = OpenAI()\n",
    "\n",
    "token = helpers.get_token('gnome')\n",
    "task = helpers.get_task(token)\n",
    "print(task['msg'], '\\n',\n",
    "      task['url'])\n"
   ]
  },
  {
   "cell_type": "code",
   "execution_count": 18,
   "metadata": {},
   "outputs": [],
   "source": [
    "def check_image(image_url):\n",
    "    completion = client.chat.completions.create(\n",
    "    model=\"gpt-4-turbo\",\n",
    "    messages=[\n",
    "        {\n",
    "        \"role\": \"user\",\n",
    "        \"content\": [\n",
    "            {\"type\": \"text\",\n",
    "              \"text\": \"\"\"If this image shows a gnome, tell me what is the color of the gnome's hat. \n",
    "              answer format =  color in polish language.\n",
    "              If this image does not show a gnome, please type 'ERROR'\"\"\"},\n",
    "            {\n",
    "            \"type\": \"image_url\",\n",
    "            \"image_url\": {\n",
    "                \"url\": image_url,\n",
    "            },\n",
    "            },\n",
    "        ],\n",
    "        }\n",
    "    ],\n",
    "    max_tokens=300,\n",
    "    )\n",
    "\n",
    "    model_answer = completion#.choices[0].message.content\n",
    "    return model_answer\n"
   ]
  },
  {
   "cell_type": "code",
   "execution_count": 20,
   "metadata": {},
   "outputs": [
    {
     "data": {
      "text/plain": [
       "'czerwony'"
      ]
     },
     "execution_count": 20,
     "metadata": {},
     "output_type": "execute_result"
    }
   ],
   "source": [
    "model_answer = check_image(task['url'])\n",
    "answer = model_answer.choices[0].message.content"
   ]
  },
  {
   "cell_type": "code",
   "execution_count": 22,
   "metadata": {},
   "outputs": [
    {
     "name": "stdout",
     "output_type": "stream",
     "text": [
      "I will give you a drawing of a gnome with a hat on his head. Tell me what is the color of the hat in POLISH. If any errors occur, return \"ERROR\" as answer \n",
      " https://tasks.aidevs.pl/gnome/3c71d78750f3c71b2585cfb11df62d4c.png\n",
      "ChatCompletion(id='chatcmpl-9CWDtu19PoPEtUnv2ihABhhAnhnQX', choices=[Choice(finish_reason='stop', index=0, logprobs=None, message=ChatCompletionMessage(content='ERROR', role='assistant', function_call=None, tool_calls=None))], created=1712770829, model='gpt-4-turbo-2024-04-09', object='chat.completion', system_fingerprint='fp_d1bac968b4', usage=CompletionUsage(completion_tokens=1, prompt_tokens=307, total_tokens=308))\n",
      "{\"answer\": \"ERROR\"}\n"
     ]
    },
    {
     "data": {
      "text/plain": [
       "{'code': 0, 'msg': 'OK', 'note': 'CORRECT'}"
      ]
     },
     "execution_count": 22,
     "metadata": {},
     "output_type": "execute_result"
    }
   ],
   "source": [
    "token = helpers.get_token('gnome')\n",
    "task = helpers.get_task(token)\n",
    "print(task['msg'], '\\n',\n",
    "      task['url'])\n",
    "\n",
    "model_answer = check_image(task['url'])\n",
    "print(model_answer)\n",
    "answer = model_answer.choices[0].message.content\n",
    "\n",
    "helpers.send_answer(token, answer)"
   ]
  },
  {
   "cell_type": "code",
   "execution_count": null,
   "metadata": {},
   "outputs": [],
   "source": []
  }
 ],
 "metadata": {
  "kernelspec": {
   "display_name": "aidevs_venv",
   "language": "python",
   "name": "python3"
  },
  "language_info": {
   "codemirror_mode": {
    "name": "ipython",
    "version": 3
   },
   "file_extension": ".py",
   "mimetype": "text/x-python",
   "name": "python",
   "nbconvert_exporter": "python",
   "pygments_lexer": "ipython3",
   "version": "3.10.2"
  }
 },
 "nbformat": 4,
 "nbformat_minor": 2
}
