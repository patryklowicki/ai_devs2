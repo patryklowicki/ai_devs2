{
 "cells": [
  {
   "cell_type": "code",
   "execution_count": 24,
   "metadata": {},
   "outputs": [],
   "source": [
    "from config import API_KEY\n",
    "import helpers\n",
    "from openai import OpenAI"
   ]
  },
  {
   "cell_type": "code",
   "execution_count": 26,
   "metadata": {},
   "outputs": [],
   "source": [
    "client = OpenAI()"
   ]
  },
  {
   "cell_type": "code",
   "execution_count": 27,
   "metadata": {},
   "outputs": [
    {
     "data": {
      "text/plain": [
       "{'code': 0,\n",
       " 'msg': 'please write blog post for the provided outline',\n",
       " 'blog': ['Wstęp: kilka słów na temat historii pizzy',\n",
       "  'Niezbędne składniki na pizzę',\n",
       "  'Robienie pizzy',\n",
       "  'Pieczenie pizzy w piekarniku']}"
      ]
     },
     "execution_count": 27,
     "metadata": {},
     "output_type": "execute_result"
    }
   ],
   "source": [
    "token = helpers.get_token(API_KEY, \"blogger\")\n",
    "task = helpers.get_get_task(token, API_KEY)\n",
    "task"
   ]
  },
  {
   "cell_type": "code",
   "execution_count": 17,
   "metadata": {},
   "outputs": [],
   "source": [
    "blog_results = []\n",
    "for blog_post_part in task['blog']:\n",
    "    ai_text  = client.completions.create(\n",
    "        model=\"gpt-3.5-turbo-instruct\",\n",
    "        prompt=blog_post_part,\n",
    "        max_tokens=1000,\n",
    "        temperature=0.7\n",
    "    )\n",
    "    blog_results.append(ai_text)"
   ]
  },
  {
   "cell_type": "code",
   "execution_count": 22,
   "metadata": {},
   "outputs": [
    {
     "data": {
      "text/plain": [
       "'\\n\\nPizza jest jednym z najbardziej popularnych dań na świecie, a jej historia sięga starożytnych czasów. Przez wieki ewoluowała i zmieniała się w zależności od regionu, w którym była przygotowywana. Wiele kultur miało swoje własne wersje pizzy, ale to Włochy są uznawane za jej ojczyznę.\\n\\nPierwsze wzmianki o potrawie przypominającej pizzę pochodzą z antycznej Grecji i Rzymu. Były to płaskie chleby z dodatkiem warzyw, mięsa i ziół, które były pieczone na rozgrzanych kamieniach. W starożytnym Rzymie popularne były również focaccie - płaskie chleby z oliwkami, ziołami i serem.\\n\\nW IX wieku na Sycylii pojawiła się pizza, którą jedli biedni mieszkańcy Neapolu. Była to płaska ciasto z dodatkiem pomidorów, czosnku, oliwy i oregano. Początkowo była to potrawa uliczna, ale wraz z rozwojem piekarnictwa zaczęła być sprzedawana w piekarniach.\\n\\nW XVIII wieku pizza stała się jeszcze bardziej popularna w Neapolu, szczególnie wśród biednych ludzi. W 1889 roku królowa Włoch, Margherita, odwiedziła Neapol i poprosiła o przygotowanie dla niej pizzy. Kucharz Raffaele Esposito przygotował dla niej trzy rodzaje pizzy, a najbardziej jej smakowała ta z pomidorami, mozzarellą i bazylią. W ten sposób powstała pizza Margherita, która do dziś jest jedną z najpopularniejszych wersji pizzy.\\n\\nWraz z emigracją Włochów do Stanów Zjednoczonych, pizza zaczęła pojawiać się w Nowym Jorku w latach 20. XX wieku. Początkowo była ona dostępna tylko w małych włoskich restauracjach, ale wraz z rozwojem sieci pizzerii, stała się popularną potrawą w całym kraju.\\n\\nDziś pizza jest jednym z najbardziej rozpoznawalnych dań na świecie. Można ją spotkać w wielu różnych wersjach, ale niezależnie od tego, czy jest to tradycyjna włoska pizza Margherita czy amerykańska pizza z ananasem i szynką, zawsze będzie to symbol włoskiej kuchni i kultury. '"
      ]
     },
     "execution_count": 22,
     "metadata": {},
     "output_type": "execute_result"
    }
   ],
   "source": [
    "my_answer =  [x.choices[0].text for x in blog_results]\n"
   ]
  },
  {
   "cell_type": "code",
   "execution_count": 28,
   "metadata": {},
   "outputs": [
    {
     "data": {
      "text/plain": [
       "{'code': 0, 'msg': 'OK', 'note': 'CORRECT'}"
      ]
     },
     "execution_count": 28,
     "metadata": {},
     "output_type": "execute_result"
    }
   ],
   "source": [
    "helpers.send_answer(\n",
    "    token = token,\n",
    "    answer=my_answer\n",
    ")"
   ]
  }
 ],
 "metadata": {
  "kernelspec": {
   "display_name": "aidevs_venv",
   "language": "python",
   "name": "python3"
  },
  "language_info": {
   "codemirror_mode": {
    "name": "ipython",
    "version": 3
   },
   "file_extension": ".py",
   "mimetype": "text/x-python",
   "name": "python",
   "nbconvert_exporter": "python",
   "pygments_lexer": "ipython3",
   "version": "3.10.2"
  }
 },
 "nbformat": 4,
 "nbformat_minor": 2
}
